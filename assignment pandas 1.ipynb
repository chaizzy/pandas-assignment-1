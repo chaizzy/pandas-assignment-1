{
 "cells": [
  {
   "cell_type": "code",
   "execution_count": 2,
   "id": "38c0a756-1ff8-4906-9ae2-c26847298fbc",
   "metadata": {},
   "outputs": [],
   "source": [
    "# ANS 1:\n",
    "import pandas as pd\n",
    "data = [ 4, 8, 15, 16, 23,42]"
   ]
  },
  {
   "cell_type": "code",
   "execution_count": 3,
   "id": "af1518f5-c975-4b98-8864-3fb6a99cfcf9",
   "metadata": {},
   "outputs": [
    {
     "data": {
      "text/plain": [
       "0     4\n",
       "1     8\n",
       "2    15\n",
       "3    16\n",
       "4    23\n",
       "5    42\n",
       "dtype: int64"
      ]
     },
     "execution_count": 3,
     "metadata": {},
     "output_type": "execute_result"
    }
   ],
   "source": [
    "pd.Series(data)"
   ]
  },
  {
   "cell_type": "code",
   "execution_count": 6,
   "id": "5f46db83-5e6e-4259-8b64-648f60bd58d2",
   "metadata": {},
   "outputs": [],
   "source": [
    "# ANS 2:\n",
    "l = [1,2,3,4,5,6,7,8,9,10]\n",
    "series = pd.Series(l)"
   ]
  },
  {
   "cell_type": "code",
   "execution_count": 7,
   "id": "12c6927e-318c-40d9-8967-273bc7c28d98",
   "metadata": {},
   "outputs": [
    {
     "name": "stdout",
     "output_type": "stream",
     "text": [
      "0     1\n",
      "1     2\n",
      "2     3\n",
      "3     4\n",
      "4     5\n",
      "5     6\n",
      "6     7\n",
      "7     8\n",
      "8     9\n",
      "9    10\n",
      "dtype: int64\n"
     ]
    }
   ],
   "source": [
    "print(series)"
   ]
  },
  {
   "cell_type": "code",
   "execution_count": 8,
   "id": "dcda97b2-a401-4680-a160-469a40f158a0",
   "metadata": {},
   "outputs": [
    {
     "data": {
      "text/plain": [
       "pandas.core.series.Series"
      ]
     },
     "execution_count": 8,
     "metadata": {},
     "output_type": "execute_result"
    }
   ],
   "source": [
    "type(series)"
   ]
  },
  {
   "cell_type": "code",
   "execution_count": 48,
   "id": "e5337e4b-fc58-4cb2-a315-b4f9441058d5",
   "metadata": {},
   "outputs": [],
   "source": [
    "# ANS3 :\n",
    "df = {\n",
    "    \"Name\" : ['Alice','Bob','Claire'],\n",
    "     \"Age\" : [25,30,27],\n",
    "    \"Gender\":['Female' ,'Male' , 'Female']\n",
    "}"
   ]
  },
  {
   "cell_type": "code",
   "execution_count": 49,
   "id": "131e6a44-8c34-445e-99ad-2136ac4510b2",
   "metadata": {},
   "outputs": [],
   "source": [
    "df1 = pd.DataFrame(df)"
   ]
  },
  {
   "cell_type": "code",
   "execution_count": 50,
   "id": "fb53a01e-d4de-45cf-98d2-2ed04246afb9",
   "metadata": {},
   "outputs": [
    {
     "name": "stdout",
     "output_type": "stream",
     "text": [
      "     Name  Age  Gender\n",
      "0   Alice   25  Female\n",
      "1     Bob   30    Male\n",
      "2  Claire   27  Female\n"
     ]
    }
   ],
   "source": [
    "print(df1)"
   ]
  },
  {
   "cell_type": "code",
   "execution_count": 24,
   "id": "8913399a-69b0-4fe1-a5fe-1dec4754b41e",
   "metadata": {},
   "outputs": [],
   "source": [
    "# ANS 4 :\n",
    "# \"dataframe\" is a data of multiple records or attributes consists of rows ans columns\n",
    "# pandas series is a record of a single attribute in a dataframe\n",
    "# for example\n",
    "# df1 is a dataframe\n"
   ]
  },
  {
   "cell_type": "code",
   "execution_count": 25,
   "id": "202bd1c9-209a-43e6-a44c-13af9535fc5e",
   "metadata": {},
   "outputs": [
    {
     "name": "stdout",
     "output_type": "stream",
     "text": [
      "     Name  Age  Gender\n",
      "0   Alice   25  Female\n",
      "1     Bob   30    Male\n",
      "2  Claire   27  Female\n"
     ]
    }
   ],
   "source": [
    "print(df1)"
   ]
  },
  {
   "cell_type": "code",
   "execution_count": 26,
   "id": "a1fa8532-118c-41d9-873a-ee35c654613e",
   "metadata": {},
   "outputs": [
    {
     "data": {
      "text/plain": [
       "0     Alice\n",
       "1       Bob\n",
       "2    Claire\n",
       "Name: Name, dtype: object"
      ]
     },
     "execution_count": 26,
     "metadata": {},
     "output_type": "execute_result"
    }
   ],
   "source": [
    "# where if we print \"name\" then \n",
    "df1['Name']\n",
    "# it is a  series"
   ]
  },
  {
   "cell_type": "code",
   "execution_count": 33,
   "id": "9c2da780-04c9-4b6a-82ec-0bc809c4f368",
   "metadata": {},
   "outputs": [],
   "source": [
    "# ANS 5:\n",
    "# dataframe.head() gives first 4 rows\n",
    "# dataframe.tail() gives last 4 rows\n",
    "# dataframe.columns gives cloumns names\n",
    "# dataframe.isnull().sum  gives total number of null values in a column"
   ]
  },
  {
   "cell_type": "code",
   "execution_count": 34,
   "id": "58c62668-da38-4a17-a02f-8573302b3ef6",
   "metadata": {},
   "outputs": [
    {
     "data": {
      "text/html": [
       "<div>\n",
       "<style scoped>\n",
       "    .dataframe tbody tr th:only-of-type {\n",
       "        vertical-align: middle;\n",
       "    }\n",
       "\n",
       "    .dataframe tbody tr th {\n",
       "        vertical-align: top;\n",
       "    }\n",
       "\n",
       "    .dataframe thead th {\n",
       "        text-align: right;\n",
       "    }\n",
       "</style>\n",
       "<table border=\"1\" class=\"dataframe\">\n",
       "  <thead>\n",
       "    <tr style=\"text-align: right;\">\n",
       "      <th></th>\n",
       "      <th>Name</th>\n",
       "      <th>Age</th>\n",
       "      <th>Gender</th>\n",
       "    </tr>\n",
       "  </thead>\n",
       "  <tbody>\n",
       "    <tr>\n",
       "      <th>0</th>\n",
       "      <td>Alice</td>\n",
       "      <td>25</td>\n",
       "      <td>Female</td>\n",
       "    </tr>\n",
       "  </tbody>\n",
       "</table>\n",
       "</div>"
      ],
      "text/plain": [
       "    Name  Age  Gender\n",
       "0  Alice   25  Female"
      ]
     },
     "execution_count": 34,
     "metadata": {},
     "output_type": "execute_result"
    }
   ],
   "source": [
    "df1.head(1)"
   ]
  },
  {
   "cell_type": "code",
   "execution_count": 35,
   "id": "483376c0-4c6a-4d4b-80f2-4a6cdec5b3ba",
   "metadata": {},
   "outputs": [
    {
     "data": {
      "text/html": [
       "<div>\n",
       "<style scoped>\n",
       "    .dataframe tbody tr th:only-of-type {\n",
       "        vertical-align: middle;\n",
       "    }\n",
       "\n",
       "    .dataframe tbody tr th {\n",
       "        vertical-align: top;\n",
       "    }\n",
       "\n",
       "    .dataframe thead th {\n",
       "        text-align: right;\n",
       "    }\n",
       "</style>\n",
       "<table border=\"1\" class=\"dataframe\">\n",
       "  <thead>\n",
       "    <tr style=\"text-align: right;\">\n",
       "      <th></th>\n",
       "      <th>Name</th>\n",
       "      <th>Age</th>\n",
       "      <th>Gender</th>\n",
       "    </tr>\n",
       "  </thead>\n",
       "  <tbody>\n",
       "    <tr>\n",
       "      <th>1</th>\n",
       "      <td>Bob</td>\n",
       "      <td>30</td>\n",
       "      <td>Male</td>\n",
       "    </tr>\n",
       "    <tr>\n",
       "      <th>2</th>\n",
       "      <td>Claire</td>\n",
       "      <td>27</td>\n",
       "      <td>Female</td>\n",
       "    </tr>\n",
       "  </tbody>\n",
       "</table>\n",
       "</div>"
      ],
      "text/plain": [
       "     Name  Age  Gender\n",
       "1     Bob   30    Male\n",
       "2  Claire   27  Female"
      ]
     },
     "execution_count": 35,
     "metadata": {},
     "output_type": "execute_result"
    }
   ],
   "source": [
    "df1.tail(2)"
   ]
  },
  {
   "cell_type": "code",
   "execution_count": 36,
   "id": "cebb3889-44d6-45d1-90b1-9ac892fdb929",
   "metadata": {},
   "outputs": [
    {
     "data": {
      "text/plain": [
       "Index(['Name', 'Age', 'Gender'], dtype='object')"
      ]
     },
     "execution_count": 36,
     "metadata": {},
     "output_type": "execute_result"
    }
   ],
   "source": [
    "df1.columns"
   ]
  },
  {
   "cell_type": "code",
   "execution_count": 37,
   "id": "8e93639b-a828-4520-8e29-a18a3735b644",
   "metadata": {},
   "outputs": [
    {
     "data": {
      "text/plain": [
       "Name      0\n",
       "Age       0\n",
       "Gender    0\n",
       "dtype: int64"
      ]
     },
     "execution_count": 37,
     "metadata": {},
     "output_type": "execute_result"
    }
   ],
   "source": [
    "df1.isnull().sum()"
   ]
  },
  {
   "cell_type": "code",
   "execution_count": 39,
   "id": "bc3df374-fbb9-4af2-9723-80844e047735",
   "metadata": {},
   "outputs": [],
   "source": [
    "# ANS 6:\n",
    "# Both series and dataframe are mutable in nature"
   ]
  },
  {
   "cell_type": "code",
   "execution_count": 41,
   "id": "05146742-aad5-485b-abe2-2fc46033a13c",
   "metadata": {},
   "outputs": [],
   "source": [
    "# ANS 7 :\n",
    "name1 = pd.Series([\"chaitanya\" , \"sai\" , \"charan\"])\n",
    "age1 = pd.Series([23,12,15])\n"
   ]
  },
  {
   "cell_type": "code",
   "execution_count": 42,
   "id": "30302d65-3293-47e7-81f3-d5ce73d5a3a6",
   "metadata": {},
   "outputs": [
    {
     "data": {
      "text/plain": [
       "0    chaitanya\n",
       "1          sai\n",
       "2       charan\n",
       "dtype: object"
      ]
     },
     "execution_count": 42,
     "metadata": {},
     "output_type": "execute_result"
    }
   ],
   "source": [
    "name1"
   ]
  },
  {
   "cell_type": "code",
   "execution_count": 43,
   "id": "2e6dc9cf-769a-4e32-8ce1-d1d212bb77ad",
   "metadata": {},
   "outputs": [],
   "source": [
    "df = pd.DataFrame({\"name\" : name1 , \"Age\" : age1})"
   ]
  },
  {
   "cell_type": "code",
   "execution_count": 44,
   "id": "f2fdff6a-85d8-46a0-9c5c-fa68da4e6a74",
   "metadata": {},
   "outputs": [
    {
     "data": {
      "text/html": [
       "<div>\n",
       "<style scoped>\n",
       "    .dataframe tbody tr th:only-of-type {\n",
       "        vertical-align: middle;\n",
       "    }\n",
       "\n",
       "    .dataframe tbody tr th {\n",
       "        vertical-align: top;\n",
       "    }\n",
       "\n",
       "    .dataframe thead th {\n",
       "        text-align: right;\n",
       "    }\n",
       "</style>\n",
       "<table border=\"1\" class=\"dataframe\">\n",
       "  <thead>\n",
       "    <tr style=\"text-align: right;\">\n",
       "      <th></th>\n",
       "      <th>name</th>\n",
       "      <th>Age</th>\n",
       "    </tr>\n",
       "  </thead>\n",
       "  <tbody>\n",
       "    <tr>\n",
       "      <th>0</th>\n",
       "      <td>chaitanya</td>\n",
       "      <td>23</td>\n",
       "    </tr>\n",
       "    <tr>\n",
       "      <th>1</th>\n",
       "      <td>sai</td>\n",
       "      <td>12</td>\n",
       "    </tr>\n",
       "    <tr>\n",
       "      <th>2</th>\n",
       "      <td>charan</td>\n",
       "      <td>15</td>\n",
       "    </tr>\n",
       "  </tbody>\n",
       "</table>\n",
       "</div>"
      ],
      "text/plain": [
       "        name  Age\n",
       "0  chaitanya   23\n",
       "1        sai   12\n",
       "2     charan   15"
      ]
     },
     "execution_count": 44,
     "metadata": {},
     "output_type": "execute_result"
    }
   ],
   "source": [
    "df"
   ]
  },
  {
   "cell_type": "code",
   "execution_count": null,
   "id": "dcf10f2e-99d8-4aa0-b386-17ce7d551a99",
   "metadata": {},
   "outputs": [],
   "source": []
  }
 ],
 "metadata": {
  "kernelspec": {
   "display_name": "Python 3 (ipykernel)",
   "language": "python",
   "name": "python3"
  },
  "language_info": {
   "codemirror_mode": {
    "name": "ipython",
    "version": 3
   },
   "file_extension": ".py",
   "mimetype": "text/x-python",
   "name": "python",
   "nbconvert_exporter": "python",
   "pygments_lexer": "ipython3",
   "version": "3.10.8"
  }
 },
 "nbformat": 4,
 "nbformat_minor": 5
}
